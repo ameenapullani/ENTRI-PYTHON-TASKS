{
  "nbformat": 4,
  "nbformat_minor": 0,
  "metadata": {
    "colab": {
      "provenance": []
    },
    "kernelspec": {
      "name": "python3",
      "display_name": "Python 3"
    },
    "language_info": {
      "name": "python"
    }
  },
  "cells": [
    {
      "cell_type": "markdown",
      "source": [
        "1. Write a Python program to check that a string contains only a certain set of characters (in this case a-z, A-Z and 0-9).\n",
        "\n"
      ],
      "metadata": {
        "id": "fpQX9wBhb6ox"
      }
    },
    {
      "cell_type": "code",
      "execution_count": 5,
      "metadata": {
        "id": "5HKhizIkbt59",
        "outputId": "ee513dfd-7726-48ce-f44d-e2e69d224eb5",
        "colab": {
          "base_uri": "https://localhost:8080/"
        }
      },
      "outputs": [
        {
          "output_type": "stream",
          "name": "stdout",
          "text": [
            "The string matches the pattern\n",
            "string does not match the pattern\n"
          ]
        }
      ],
      "source": [
        "import re\n",
        "def fun(test_str):\n",
        "  pattern =  r'^[a-zA-Z0-9]+$'\n",
        "  if re.search(pattern, test_str):\n",
        "    print('The string matches the pattern')\n",
        "  else:\n",
        "    print(\"string does not match the pattern\")\n",
        "\n",
        "fun(\"ameena123\")\n",
        "fun(\"ameena@pullani\")\n"
      ]
    },
    {
      "cell_type": "markdown",
      "source": [
        "2. Write a Python program that matches a string that has an a followed by zero or more b's.\n",
        "\n"
      ],
      "metadata": {
        "id": "rtdxRzltcRtS"
      }
    },
    {
      "cell_type": "code",
      "source": [
        "import re\n",
        "def fun(test_str):\n",
        "  pattern =r\"a(b*)$\"\n",
        "  if re.search(pattern, test_str):\n",
        "    print('The string matches the pattern')\n",
        "  else:\n",
        "    print(\"string does not match the pattern\")\n",
        "\n",
        "fun(\"abb\")\n",
        "fun(\"abc\")"
      ],
      "metadata": {
        "id": "ZjdCBYZAcZGl",
        "outputId": "04cd737d-bb92-4d52-b78a-455a74e162a3",
        "colab": {
          "base_uri": "https://localhost:8080/"
        }
      },
      "execution_count": 9,
      "outputs": [
        {
          "output_type": "stream",
          "name": "stdout",
          "text": [
            "The string matches the pattern\n",
            "string does not match the pattern\n"
          ]
        }
      ]
    },
    {
      "cell_type": "markdown",
      "source": [
        "3. Replace only the first occurrence of 5 with five for the given string\n",
        "\n"
      ],
      "metadata": {
        "id": "kyvbz3eNcZri"
      }
    },
    {
      "cell_type": "code",
      "source": [
        "\n",
        "import re\n",
        "ip = 'They ate 5 apples and 5 oranges'\n",
        "result=re.sub(\"5\",\"five\",ip,1)\n",
        "print(result)"
      ],
      "metadata": {
        "id": "pgZy45dxcqSg",
        "outputId": "707d3d6c-5348-416b-8c8d-8bd64ab30d1f",
        "colab": {
          "base_uri": "https://localhost:8080/"
        }
      },
      "execution_count": 10,
      "outputs": [
        {
          "output_type": "stream",
          "name": "stdout",
          "text": [
            "They ate five apples and 5 oranges\n"
          ]
        }
      ]
    },
    {
      "cell_type": "markdown",
      "source": [
        "4. Write a Python program that matches a string that has an a followed by three 'b'.\n",
        "\n"
      ],
      "metadata": {
        "id": "h_b1-o6ncuzM"
      }
    },
    {
      "cell_type": "code",
      "source": [
        "import re\n",
        "\n",
        "def fun(test_str):\n",
        "  pattern =  r\"a(b{3})\"\n",
        "  if re.search(pattern, test_str):\n",
        "    print('The string matches the pattern')\n",
        "  else:\n",
        "    print(\"string does not match the pattern\")\n",
        "\n",
        "fun(\"abb\")\n",
        "fun(\"abbb\")\n",
        "\n",
        "\n"
      ],
      "metadata": {
        "id": "eWIRl3LccqwE",
        "outputId": "23d9e537-700e-40a0-ecaa-06dd2bcc541a",
        "colab": {
          "base_uri": "https://localhost:8080/"
        }
      },
      "execution_count": 12,
      "outputs": [
        {
          "output_type": "stream",
          "name": "stdout",
          "text": [
            "string does not match the pattern\n",
            "The string matches the pattern\n"
          ]
        }
      ]
    },
    {
      "cell_type": "markdown",
      "source": [
        "5. Write a Python program that matches a string that has an 'a' followed by anything ending in 'b'.\n",
        "\n"
      ],
      "metadata": {
        "id": "K2vPe01bc2LN"
      }
    },
    {
      "cell_type": "code",
      "source": [
        "import re\n",
        "\n",
        "def fun(test_str):\n",
        "  pattern = r\"^a.+b$\"\n",
        "  if re.search(pattern, test_str):\n",
        "    print('The string matches the pattern')\n",
        "  else:\n",
        "    print(\"string does not match the pattern\")\n",
        "\n",
        "fun(\"abb\")\n",
        "fun(\"abgfdgh\")\n"
      ],
      "metadata": {
        "id": "f8KfX59qc3UJ",
        "outputId": "7ea21d21-58d6-4be6-bf11-5cc6a76815ae",
        "colab": {
          "base_uri": "https://localhost:8080/"
        }
      },
      "execution_count": 16,
      "outputs": [
        {
          "output_type": "stream",
          "name": "stdout",
          "text": [
            "The string matches the pattern\n",
            "string does not match the pattern\n"
          ]
        }
      ]
    },
    {
      "cell_type": "markdown",
      "source": [
        "6. Write a Python program to search for numbers (0-9) of length between 1 and 3 in a given string."
      ],
      "metadata": {
        "id": "NyL-DhqXdZi7"
      }
    },
    {
      "cell_type": "code",
      "source": [
        "import re\n",
        "txt=\"Exercises number 1, 12, 13 and 345 are important\"\n",
        "pattern=r'\\b[0-9]{1,3}\\b'\n",
        "x=re.findall(pattern,txt)\n",
        "print(x)\n"
      ],
      "metadata": {
        "id": "pWsu0HljdnKX",
        "colab": {
          "base_uri": "https://localhost:8080/"
        },
        "outputId": "470fe7b2-64d9-4055-f348-1740f77f3cf8"
      },
      "execution_count": 17,
      "outputs": [
        {
          "output_type": "stream",
          "name": "stdout",
          "text": [
            "['1', '12', '13', '345']\n"
          ]
        }
      ]
    },
    {
      "cell_type": "markdown",
      "source": [
        "7. Write a Python program to search for literal strings within a string.\\\n",
        "Sample text : 'The quick brown fox jumps over the lazy dog.' \\\n",
        "Searched words : 'fox', 'dog', 'horse'"
      ],
      "metadata": {
        "id": "aWaHWXFjdqy7"
      }
    },
    {
      "cell_type": "code",
      "source": [
        "import re\n",
        "\n",
        "words=[ 'fox', 'dog', 'horse']\n",
        "text='The quick brown fox jumps over the lazy dog.'\n",
        "for i in words:\n",
        "  if re.search(i,text):\n",
        "    print(f\" '{i}' is found in '{text}'\")\n",
        "  else:\n",
        "    print(f\" '{i}' is not found in '{text}'\")"
      ],
      "metadata": {
        "id": "bVAMeTMddnmf",
        "outputId": "fa3601d8-83dc-4651-86ee-b480959b3cea",
        "colab": {
          "base_uri": "https://localhost:8080/"
        }
      },
      "execution_count": 19,
      "outputs": [
        {
          "output_type": "stream",
          "name": "stdout",
          "text": [
            " 'fox' is found in 'The quick brown fox jumps over the lazy dog.'\n",
            " 'dog' is found in 'The quick brown fox jumps over the lazy dog.'\n",
            " 'horse' is not found in 'The quick brown fox jumps over the lazy dog.'\n"
          ]
        }
      ]
    },
    {
      "cell_type": "markdown",
      "source": [
        "8. Write a Python program to search for a literal string in a string and also find the location within the original string where the pattern occurs.\n",
        "\n",
        "Sample text : 'The quick brown fox jumps over the lazy dog.' \\\n",
        "Searched words : 'fox'"
      ],
      "metadata": {
        "id": "2cgZLc6Yd0sE"
      }
    },
    {
      "cell_type": "code",
      "source": [
        "import re\n",
        "\n",
        "word='fox'\n",
        "text='The quick brown fox jumps over the lazy dog.'\n",
        "x=re.search(word,text)\n",
        "print(f\" '{word}' is found in '{text}' at a position of '{x.start()}-{x.end()}'\")"
      ],
      "metadata": {
        "id": "Tj1FCCx4d3zZ",
        "outputId": "b08062c5-0fb0-43fc-869d-ec49f3b1332c",
        "colab": {
          "base_uri": "https://localhost:8080/"
        }
      },
      "execution_count": 27,
      "outputs": [
        {
          "output_type": "stream",
          "name": "stdout",
          "text": [
            " 'fox' is found in 'The quick brown fox jumps over the lazy dog.' at a position of '16-19'\n"
          ]
        }
      ]
    },
    {
      "cell_type": "markdown",
      "source": [
        "9.  Write a Python program to extract year, month and date from an URL"
      ],
      "metadata": {
        "id": "ixuwdsnvdtcP"
      }
    },
    {
      "cell_type": "code",
      "source": [
        "import re\n",
        "url1= \"https://www.washingtonpost.com/news/football-insider/wp/2016/09/02/odell-beckhams-fame-rests-on-one-stupid-little-ball-josh-norman-tells-author/\"\n",
        "pattern=r'\\d{4}/\\d{1,2}/\\d{1,2}'\n",
        "x=re.findall(pattern,url1)\n",
        "print(x)"
      ],
      "metadata": {
        "id": "uWA2_OfJeFpw",
        "colab": {
          "base_uri": "https://localhost:8080/"
        },
        "outputId": "9de18de1-69a2-4760-f908-14c896ce2b78"
      },
      "execution_count": 28,
      "outputs": [
        {
          "output_type": "stream",
          "name": "stdout",
          "text": [
            "['2016/09/02']\n"
          ]
        }
      ]
    },
    {
      "cell_type": "code",
      "source": [
        "import re\n",
        "url1= \"https://www.washingtonpost.com/news/football-insider/wp/2016/09/02/odell-beckhams-fame-rests-on-one-stupid-little-ball-josh-norman\"\n",
        "p=re.compile('\\d{4}/\\d{2}/\\d{2}/')\n",
        "print(p.findall(url1))"
      ],
      "metadata": {
        "colab": {
          "base_uri": "https://localhost:8080/"
        },
        "id": "CF4ioOhsiyNn",
        "outputId": "8a8747fe-ebec-43ae-ab7f-c9b86c1725ed"
      },
      "execution_count": null,
      "outputs": [
        {
          "output_type": "stream",
          "name": "stdout",
          "text": [
            "['2016/99/02/']\n"
          ]
        }
      ]
    },
    {
      "cell_type": "markdown",
      "source": [
        "10. Write a Python program to find URLs in a string.\n",
        "\n"
      ],
      "metadata": {
        "id": "Qdob8Ojkea-W"
      }
    },
    {
      "cell_type": "code",
      "source": [
        "import re\n",
        "\n",
        "text = '<p>Contents :</p><a href=\"https://w3resource.com\">Python Examples</a><a href=\"http://github.com\">Even More Examples</a>'\n",
        "pattern=r'http[s]?\\://\\w+\\.\\w+'\n",
        "x=re.findall(pattern,text)\n",
        "print(x)"
      ],
      "metadata": {
        "id": "d9KUcdQEeIJu",
        "outputId": "41fe2200-493f-4071-cdc0-268abd327d3e",
        "colab": {
          "base_uri": "https://localhost:8080/"
        }
      },
      "execution_count": 29,
      "outputs": [
        {
          "output_type": "stream",
          "name": "stdout",
          "text": [
            "['https://w3resource.com', 'http://github.com']\n"
          ]
        }
      ]
    },
    {
      "cell_type": "markdown",
      "source": [
        "11. Write a Python program to remove the parenthesis area in a string.\\\n",
        "\n",
        "Sample data : [\"example (.com)\", \"w3resource\", \"github (.com)\", \"stackoverflow (.com)\"] \\\n",
        "Expected Output: \\\n",
        "example  \\\n",
        "w3resource \\\n",
        "github  \\\n",
        "stackoverflow. \\\n",
        "\n"
      ],
      "metadata": {
        "id": "5mX_cCEFepSi"
      }
    },
    {
      "cell_type": "code",
      "source": [
        "import re\n",
        "data=[\"example(.com)\", \"w3resource\", \"github(.com)\", \"stackoverflow(.com)\"]\n",
        "for pattern in data:\n",
        "  x=re.sub(r'\\(\\.\\w+\\)','',pattern)\n",
        "  print(x)"
      ],
      "metadata": {
        "id": "CNYOSWfLee_M",
        "outputId": "1f082b11-af36-447b-f66a-80d0aceb9ec9",
        "colab": {
          "base_uri": "https://localhost:8080/"
        }
      },
      "execution_count": 31,
      "outputs": [
        {
          "output_type": "stream",
          "name": "stdout",
          "text": [
            "example\n",
            "w3resource\n",
            "github\n",
            "stackoverflow\n"
          ]
        }
      ]
    },
    {
      "cell_type": "markdown",
      "source": [
        "12. Write a Python program to concatenate the consecutive numbers in a given string. \\\n",
        "\n",
        "Original string:  \\\n",
        "Enter at 1 20 Kearny Street. The security desk can direct you to floor 1 6. Please have your identification ready.  \\\n",
        "\n",
        "After concatenating the consecutive numbers in the said string:  \\\n",
        "Enter at 120 Kearny Street. The security desk can direct you to floor 16. Please have your identification ready."
      ],
      "metadata": {
        "id": "sRhveFHXe7nz"
      }
    },
    {
      "cell_type": "code",
      "source": [
        "import re\n",
        "txt = \"Enter at 1 20 Kearny Street. The security desk can direct you to floor 1 6. Please have your identification ready.\"\n",
        "new_txt = re.sub(r\"(?<=\\d)\\s(?=\\d)\", '', txt)\n",
        "\n",
        "print(new_txt)"
      ],
      "metadata": {
        "id": "4dcBL0RTe_zP",
        "outputId": "4281b577-96c9-467f-d8be-ce88c3fa1d2b",
        "colab": {
          "base_uri": "https://localhost:8080/"
        }
      },
      "execution_count": 32,
      "outputs": [
        {
          "output_type": "stream",
          "name": "stdout",
          "text": [
            "Enter at 120 Kearny Street. The security desk can direct you to floor 16. Please have your identification ready.\n"
          ]
        }
      ]
    },
    {
      "cell_type": "markdown",
      "source": [],
      "metadata": {
        "id": "rENrD10afBB3"
      }
    }
  ]
}