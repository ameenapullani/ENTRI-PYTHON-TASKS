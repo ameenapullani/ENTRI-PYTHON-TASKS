{
  "nbformat": 4,
  "nbformat_minor": 0,
  "metadata": {
    "colab": {
      "provenance": []
    },
    "kernelspec": {
      "name": "python3",
      "display_name": "Python 3"
    },
    "language_info": {
      "name": "python"
    }
  },
  "cells": [
    {
      "cell_type": "markdown",
      "source": [
        "1. Write a program to create a function show_employee() using the following conditions.\n"
      ],
      "metadata": {
        "id": "p9mqEJB0FXxW"
      }
    },
    {
      "cell_type": "code",
      "source": [
        "def show_Employee(name,salary=9000):\n",
        "  print(f\"name:{name} salary:{salary}\")\n",
        "show_Employee(\"Ben\", 12000)\n",
        "show_Employee(\"Jessa\")"
      ],
      "metadata": {
        "colab": {
          "base_uri": "https://localhost:8080/"
        },
        "id": "jLMEEJr8FxSe",
        "outputId": "16858f4d-8dbb-484d-9705-f68516a20d71"
      },
      "execution_count": 6,
      "outputs": [
        {
          "output_type": "stream",
          "name": "stdout",
          "text": [
            "name:Ben salary:12000\n",
            "name:Jessa salary:9000\n"
          ]
        }
      ]
    },
    {
      "cell_type": "markdown",
      "source": [
        "Exercise 2: Create an inner function to calculate the addition in the following way\n",
        "*  Create an outer function that will accept two parameters, a and b\n",
        "*  Create an inner function inside an outer function that will calculate the addition of a and b\n",
        "* At last, an outer function will add 5 into addition and return it\n"
      ],
      "metadata": {
        "id": "AZnx6vGBICGi"
      }
    },
    {
      "cell_type": "code",
      "source": [
        "def outer_fun(a, b):\n",
        "    def inner_fun(a, b):\n",
        "        return a + b\n",
        "    sum =inner_fun(a, b)\n",
        "    return sum + 5\n",
        "\n",
        "outer_fun(1,10)\n",
        "\n"
      ],
      "metadata": {
        "colab": {
          "base_uri": "https://localhost:8080/"
        },
        "id": "D4EpTWCWHLW3",
        "outputId": "3310d770-4afd-40f5-bff1-856bc1998f08"
      },
      "execution_count": 21,
      "outputs": [
        {
          "output_type": "execute_result",
          "data": {
            "text/plain": [
              "16"
            ]
          },
          "metadata": {},
          "execution_count": 21
        }
      ]
    },
    {
      "cell_type": "markdown",
      "source": [
        "Exercise 3: Generate a Python list of all the even numbers between 4 to 30\n"
      ],
      "metadata": {
        "id": "m6t7QAXp1tQR"
      }
    },
    {
      "cell_type": "code",
      "source": [
        "new_list= list(filter(lambda x: x % 2 == 0, range(4, 31)))\n",
        "\n",
        "print(new_list)\n",
        "\n"
      ],
      "metadata": {
        "colab": {
          "base_uri": "https://localhost:8080/"
        },
        "id": "ycqCFW2R17UH",
        "outputId": "d380534c-6f2b-4245-ba13-9d6bdf6e5d37"
      },
      "execution_count": 11,
      "outputs": [
        {
          "output_type": "stream",
          "name": "stdout",
          "text": [
            "[4, 6, 8, 10, 12, 14, 16, 18, 20, 22, 24, 26, 28, 30]\n"
          ]
        }
      ]
    },
    {
      "cell_type": "markdown",
      "source": [
        "Exercise 4: Lambda Function to Check if value is in a List\n",
        "Given a list, the task is to write a Python program to check if the value exists in the list or not using the lambda function.\n",
        "\n",
        "\n",
        "Input  : L = [1, 2, 3, 4, 5]\n",
        "          element = 4\n",
        "Output :  Element is Present in the list\n",
        "\n",
        "Input :  L = [1, 2, 3, 4, 5]\n",
        "          element = 8\n",
        "Output :  Element is NOT Present in the list\n",
        "\n"
      ],
      "metadata": {
        "id": "IB6a7rkr9WCE"
      }
    },
    {
      "cell_type": "code",
      "source": [
        "l=[1,2,3,4,5]\n",
        "def fun(a):\n",
        "  result=list(filter(lambda x:x==a,l))\n",
        "  if result:\n",
        "      print(\"Element is Present in the list\")\n",
        "  else:\n",
        "     print(\"Element is NOT Present in the list\")\n",
        "fun(4)\n",
        "fun(8)"
      ],
      "metadata": {
        "colab": {
          "base_uri": "https://localhost:8080/"
        },
        "id": "7HRjnSPK_Ofb",
        "outputId": "3249ae67-ca9f-402e-a4a1-6e274537fec3"
      },
      "execution_count": 4,
      "outputs": [
        {
          "output_type": "stream",
          "name": "stdout",
          "text": [
            "Element is Present in the list\n",
            "Element is NOT Present in the list\n"
          ]
        }
      ]
    },
    {
      "cell_type": "markdown",
      "source": [
        "Exercise 5: Sort list of tuples with their sum\n",
        "Sort the points based on their sum of elements in the tuples\n",
        "\n",
        "points = [(1, 2), (5, 3), (0, 7), (3, 1)]\n"
      ],
      "metadata": {
        "id": "VmEro3QWqI0n"
      }
    },
    {
      "cell_type": "code",
      "source": [
        "\n",
        "points =[(1, 2),(5, 3),(0, 7),(3,1)]\n",
        "points.sort(key=lambda x:sum(x))\n",
        "print(points)"
      ],
      "metadata": {
        "colab": {
          "base_uri": "https://localhost:8080/"
        },
        "id": "x95taRsMAOF2",
        "outputId": "f4e88b5b-9eb7-4c96-c2e4-438c863ee261"
      },
      "execution_count": 15,
      "outputs": [
        {
          "output_type": "stream",
          "name": "stdout",
          "text": [
            "[(1, 2), (3, 1), (0, 7), (5, 3)]\n"
          ]
        }
      ]
    },
    {
      "cell_type": "markdown",
      "source": [
        "Exercise 6:\n",
        "Write a python function, which will find all such numbers between 1000 and 3000 (both included) such that each digit of the number is an even number. Return the results as a list\n"
      ],
      "metadata": {
        "id": "D5Cd8Rb5vHgd"
      }
    },
    {
      "cell_type": "code",
      "source": [
        "def even_digt_number():\n",
        "  new_even_list=[]\n",
        "  for i in range(1000,3001):\n",
        "    l=[int(d)for d in str(i)]\n",
        "    if all(d%2==0 for d in l):\n",
        "      new_even_list.append(i)\n",
        "  return new_even_list\n",
        "result=even_digt_number()\n",
        "print(result)\n"
      ],
      "metadata": {
        "colab": {
          "base_uri": "https://localhost:8080/"
        },
        "id": "UpUxaTgGtd15",
        "outputId": "df9e0d36-1833-49fe-8fa7-201f706c9709"
      },
      "execution_count": 7,
      "outputs": [
        {
          "output_type": "stream",
          "name": "stdout",
          "text": [
            "[2000, 2002, 2004, 2006, 2008, 2020, 2022, 2024, 2026, 2028, 2040, 2042, 2044, 2046, 2048, 2060, 2062, 2064, 2066, 2068, 2080, 2082, 2084, 2086, 2088, 2200, 2202, 2204, 2206, 2208, 2220, 2222, 2224, 2226, 2228, 2240, 2242, 2244, 2246, 2248, 2260, 2262, 2264, 2266, 2268, 2280, 2282, 2284, 2286, 2288, 2400, 2402, 2404, 2406, 2408, 2420, 2422, 2424, 2426, 2428, 2440, 2442, 2444, 2446, 2448, 2460, 2462, 2464, 2466, 2468, 2480, 2482, 2484, 2486, 2488, 2600, 2602, 2604, 2606, 2608, 2620, 2622, 2624, 2626, 2628, 2640, 2642, 2644, 2646, 2648, 2660, 2662, 2664, 2666, 2668, 2680, 2682, 2684, 2686, 2688, 2800, 2802, 2804, 2806, 2808, 2820, 2822, 2824, 2826, 2828, 2840, 2842, 2844, 2846, 2848, 2860, 2862, 2864, 2866, 2868, 2880, 2882, 2884, 2886, 2888]\n"
          ]
        }
      ]
    },
    {
      "cell_type": "markdown",
      "source": [
        "Exercisse 7:Write a python function that accepts a sentence and calculate and return the number of letters and digits.\n",
        "Suppose the following input is supplied to the program:\n",
        "hello world! 123\n",
        "Then, the output should be:\n",
        "LETTERS 10\n",
        "DIGITS 3\n"
      ],
      "metadata": {
        "id": "_1T9WX47CPFQ"
      }
    },
    {
      "cell_type": "code",
      "source": [
        "def fun(x):\n",
        "  letters=0\n",
        "  digits=0\n",
        "\n",
        "  for i in x:\n",
        "    if i.isalpha():\n",
        "      letters+=1\n",
        "    elif i.isdigit():\n",
        "      digits+=1\n",
        "  return letters,digits\n",
        "\n",
        "a=\"ameena@156\"\n",
        "letters,digits=fun(a)\n",
        "\n",
        "print(\"LETTERS \", letters)\n",
        "print(\"DIGITS \" , digits)\n",
        "\n",
        "\n",
        "\n"
      ],
      "metadata": {
        "colab": {
          "base_uri": "https://localhost:8080/"
        },
        "id": "B_Q2GX0guSwc",
        "outputId": "f9258c7c-0ea2-4030-a5b8-8387bd853409"
      },
      "execution_count": 32,
      "outputs": [
        {
          "output_type": "stream",
          "name": "stdout",
          "text": [
            "LETTERS  6\n",
            "DIGITS  3\n"
          ]
        }
      ]
    },
    {
      "cell_type": "markdown",
      "source": [
        "Exercise 8  MAP:\n",
        "Write a Python program to convert all the characters into uppercase and lowercase and eliminate duplicate letters from a given sequence. Use the map() function\n"
      ],
      "metadata": {
        "id": "qaMYIUYKKTK5"
      }
    },
    {
      "cell_type": "code",
      "source": [
        "def fun(a):\n",
        "  upper_case=list(map(lambda x:x.upper(),a))\n",
        "  lower_case=list(map(lambda x:x.lower(),a))\n",
        "  duplicate_list=list(set(a))\n",
        "  return upper_case,lower_case,duplicate_list\n",
        "\n",
        "a=\"yOu arE unIque\"\n",
        "upper_case,lower_case,duplicate_list=fun(a)\n",
        "print(upper_case)\n",
        "print(lower_case)\n",
        "print(duplicate_list)\n",
        "\n"
      ],
      "metadata": {
        "colab": {
          "base_uri": "https://localhost:8080/"
        },
        "id": "JejCI36CHan-",
        "outputId": "900f7feb-5fef-4b98-c9df-4fc9b35e6d90"
      },
      "execution_count": 4,
      "outputs": [
        {
          "output_type": "stream",
          "name": "stdout",
          "text": [
            "['Y', 'O', 'U', ' ', 'A', 'R', 'E', ' ', 'U', 'N', 'I', 'Q', 'U', 'E']\n",
            "['y', 'o', 'u', ' ', 'a', 'r', 'e', ' ', 'u', 'n', 'i', 'q', 'u', 'e']\n",
            "['a', 'E', 'O', 'n', 'y', 'u', 'e', 'q', 'r', ' ', 'I']\n"
          ]
        }
      ]
    },
    {
      "cell_type": "markdown",
      "source": [
        "Exercise9:\n",
        "Write a Python program to element wise add two given lists and find the difference between them. Use the map() function"
      ],
      "metadata": {
        "id": "0r6fHQ88Ag-k"
      }
    },
    {
      "cell_type": "code",
      "source": [
        "l1=[3,8,2,6]\n",
        "l2=[6,0,2,1]\n",
        "\n",
        "add=map(lambda x,y: x+y,l1,l2)\n",
        "diff=map(lambda x,y :x-y,l1,l2)\n",
        "\n",
        "print(list(add))\n",
        "print(list(diff))"
      ],
      "metadata": {
        "colab": {
          "base_uri": "https://localhost:8080/"
        },
        "id": "ZMcZVKpqB6s8",
        "outputId": "6b3046ed-575e-4a7d-c9a1-1b3d9c21ef26"
      },
      "execution_count": 2,
      "outputs": [
        {
          "output_type": "stream",
          "name": "stdout",
          "text": [
            "[9, 8, 4, 7]\n",
            "[-3, 8, 0, 5]\n"
          ]
        }
      ]
    },
    {
      "cell_type": "markdown",
      "source": [
        "**Exercise 10 Filter: **\n",
        "Write a Python program to filter the height and weight of students, which are stored in a dictionary using lambda.\n",
        "* Original Dictionary:\n",
        "{'Cierra Vega': (6.2, 71), 'Alden Cantrell': (5.9, 65), 'Kierra Gentry': (6.0, 68), 'Pierre Cox': (5.8, 66)}\n",
        "* Height> 6ft and Weight> 70kg:\n",
        "{'Cierra Vega': (6.2, 71)}\n"
      ],
      "metadata": {
        "id": "LT__vmYYkl2p"
      }
    },
    {
      "cell_type": "code",
      "source": [
        "students={'Cierra Vega':(6.2, 71),'Alden Cantrell':(5.9, 65),'Kierra Gentry':(6.0, 68),'Pierre Cox':(5.8, 66)}\n",
        "\n",
        "f=(filter(lambda x:x[1][0]>6 and x[1][1]>70,students.items()))\n",
        "print(dict(f))\n"
      ],
      "metadata": {
        "colab": {
          "base_uri": "https://localhost:8080/"
        },
        "id": "xWRrqfWWma8y",
        "outputId": "1bd56d81-fcc5-4f63-d57b-ec0beeccc76c"
      },
      "execution_count": 7,
      "outputs": [
        {
          "output_type": "stream",
          "name": "stdout",
          "text": [
            "{'Cierra Vega': (6.2, 71)}\n"
          ]
        }
      ]
    },
    {
      "cell_type": "markdown",
      "source": [
        "Exercise 11 Filter:\n",
        "Write a Python program to remove all elements from a given list present in another list using lambda.\n",
        "* Original lists:\n",
        "list1: [1, 2, 3, 4, 5, 6, 7, 8, 9, 10]\n",
        "list2: [2, 4, 6, 8]\n",
        "* Remove all elements from 'list1' present in 'list2:\n",
        "[1, 3, 5, 7, 9, 10]\n"
      ],
      "metadata": {
        "id": "iysdKTNjofhI"
      }
    },
    {
      "cell_type": "code",
      "source": [
        "list1=[1, 2, 3, 4, 5, 6, 7, 8, 9, 10]\n",
        "list2=[2, 4, 6, 8]\n",
        "\n",
        "list(filter(lambda x:x not in list2,list1))\n"
      ],
      "metadata": {
        "colab": {
          "base_uri": "https://localhost:8080/"
        },
        "id": "F2zP2by7nQaC",
        "outputId": "95203b19-2664-43a9-8426-579c1eda161d"
      },
      "execution_count": 6,
      "outputs": [
        {
          "output_type": "execute_result",
          "data": {
            "text/plain": [
              "[1, 3, 5, 7, 9, 10]"
            ]
          },
          "metadata": {},
          "execution_count": 6
        }
      ]
    },
    {
      "cell_type": "markdown",
      "source": [
        "Exercise 12 Reduce:\n",
        "Write a Python program to calculate the product of a given list of numbers using lambda.\n",
        "* list1: [1, 2, 3, 4, 5, 6, 7, 8, 9, 10]\n",
        "* Product of the said list numbers:3628800\n"
      ],
      "metadata": {
        "id": "fXiFnusMpXRQ"
      }
    },
    {
      "cell_type": "code",
      "source": [
        "import functools\n",
        "\n",
        "list1=[1, 2, 3, 4, 5, 6, 7, 8, 9, 10]\n",
        "result=functools.reduce(lambda x,y: x*y,list1)\n",
        "print(result)"
      ],
      "metadata": {
        "colab": {
          "base_uri": "https://localhost:8080/"
        },
        "id": "fSMVW_GXpPJt",
        "outputId": "8f933cd8-1541-4615-d418-b1829ec1c9ed"
      },
      "execution_count": 8,
      "outputs": [
        {
          "output_type": "stream",
          "name": "stdout",
          "text": [
            "3628800\n"
          ]
        }
      ]
    },
    {
      "cell_type": "markdown",
      "source": [
        "Exercise 13 Reduce:\n",
        "\n",
        "\n",
        " Write a Python program to multiply all the numbers in a given list using lambda.\n",
        "* Original list:\n",
        "[4, 3, 2, 2, -1, 18]\n",
        "* Multiply all the numbers of the said list: -864\n",
        "\n"
      ],
      "metadata": {
        "id": "vgpOjJrsrEMd"
      }
    },
    {
      "cell_type": "code",
      "source": [
        "import functools\n",
        "list=[4, 3, 2, 2, -1, 18]\n",
        "result=functools.reduce(lambda x,y:x*y,list)\n",
        "print(result)\n"
      ],
      "metadata": {
        "colab": {
          "base_uri": "https://localhost:8080/"
        },
        "id": "BXZZFdmHrN_2",
        "outputId": "ac0c74a9-7f53-4317-8384-d6eeacf92ba1"
      },
      "execution_count": 9,
      "outputs": [
        {
          "output_type": "stream",
          "name": "stdout",
          "text": [
            "-864\n"
          ]
        }
      ]
    },
    {
      "cell_type": "markdown",
      "source": [
        "Exercise 14 Reduce:\n",
        "\n",
        "\n",
        "Write a Python program to calculate the average value of the numbers in a given tuple of tuples using lambda.\n",
        "Original Tuple:\n",
        "((10, 10, 10), (30, 45, 56), (81, 80, 39), (1, 2, 3))"
      ],
      "metadata": {
        "id": "Wcj_bOsproMr"
      }
    },
    {
      "cell_type": "code",
      "source": [
        "x=((10,10,10),(30,45,56),(81,80,39),(1,2,3))\n",
        "f=tuple(map(lambda a:sum(a)/len(a),zip(*x)))\n",
        "print(f)\n",
        "\n"
      ],
      "metadata": {
        "colab": {
          "base_uri": "https://localhost:8080/"
        },
        "id": "t5cK3SW5rrWT",
        "outputId": "818799b8-8a9e-4dc8-a3d6-d8af91cc2553"
      },
      "execution_count": 13,
      "outputs": [
        {
          "output_type": "stream",
          "name": "stdout",
          "text": [
            "(30.5, 34.25, 27.0)\n"
          ]
        }
      ]
    },
    {
      "cell_type": "markdown",
      "source": [
        "Exercise 15:\n",
        "\n",
        "\n",
        "* Write a Python program to sort a given mixed list of integers and strings using lambda. Numbers must be sorted before strings.\n",
        "* Original list:\n",
        "[19, 'red', 12, 'green', 'blue', 10, 'white', 'green', 1]\n",
        "* Sort the said mixed list of integers and strings:\n",
        "[1, 10, 12, 19, 'blue', 'green', 'green', 'red', 'white']\n"
      ],
      "metadata": {
        "id": "epl0qF0yuVdo"
      }
    },
    {
      "cell_type": "code",
      "source": [
        "Original_list=[19,'red',12,'green','blue',10,'white','green',1]\n",
        "\n",
        "sorted_list =sorted(Original_list, key=lambda x:(isinstance(x, str), x))\n",
        "\n",
        "print(sorted_list)"
      ],
      "metadata": {
        "colab": {
          "base_uri": "https://localhost:8080/"
        },
        "id": "4zS9hINer_30",
        "outputId": "b57f8f9c-c083-457d-e825-76352518edeb"
      },
      "execution_count": 14,
      "outputs": [
        {
          "output_type": "stream",
          "name": "stdout",
          "text": [
            "[1, 10, 12, 19, 'blue', 'green', 'green', 'red', 'white']\n"
          ]
        }
      ]
    },
    {
      "cell_type": "markdown",
      "source": [
        "Exercise 16:\n",
        "Write a Python program to count the occurrences of items in a given list using lambda.\n",
        "* Original list:\n",
        "[3, 4, 5, 8, 0, 3, 8, 5, 0, 3, 1, 5, 2, 3, 4, 2]\n",
        "* Count the occurrences of the items in the said list:\n",
        "{3: 4, 4: 2, 5: 3, 8: 2, 0: 2, 1: 1, 2: 2}\n"
      ],
      "metadata": {
        "id": "L5ryeffWvkvx"
      }
    },
    {
      "cell_type": "code",
      "source": [
        "original_list=[3, 4, 5, 8, 0, 3, 8, 5, 0, 3, 1, 5, 2, 3, 4, 2]\n",
        "result=dict(map((lambda x:(x,original_list.count(x))),original_list))\n",
        "print(result)"
      ],
      "metadata": {
        "colab": {
          "base_uri": "https://localhost:8080/"
        },
        "id": "R4BjJrm_visG",
        "outputId": "63828384-e898-4afd-e2df-b3473de6f96d"
      },
      "execution_count": 17,
      "outputs": [
        {
          "output_type": "stream",
          "name": "stdout",
          "text": [
            "{3: 4, 4: 2, 5: 3, 8: 2, 0: 2, 1: 1, 2: 2}\n"
          ]
        }
      ]
    },
    {
      "cell_type": "markdown",
      "source": [
        "Exercise 17:\n",
        "\n",
        "\n",
        "Write a Python program to remove None values from a given list using the lambda function.\n",
        "* Original list:\n",
        "[12, 0, None, 23, None, -55, 234, 89, None, 0, 6, -12]\n",
        "* Remove None value from the said list:\n",
        "[12, 0, 23, -55, 234, 89, 0, 6, -12]\n"
      ],
      "metadata": {
        "id": "mR1B0rW9w0GQ"
      }
    },
    {
      "cell_type": "code",
      "source": [
        "l=[12, 0, None, 23, None, -55, 234, 89, None, 0, 6, -12]\n",
        "result=filter(lambda x:x is not None ,l)\n",
        "print(list(result))"
      ],
      "metadata": {
        "colab": {
          "base_uri": "https://localhost:8080/"
        },
        "id": "sQIDozL7w4fe",
        "outputId": "13cd9717-59b2-4c50-aa7d-4ba980827460"
      },
      "execution_count": 3,
      "outputs": [
        {
          "output_type": "stream",
          "name": "stdout",
          "text": [
            "[12, 0, 23, -55, 234, 89, 0, 6, -12]\n"
          ]
        }
      ]
    },
    {
      "cell_type": "code",
      "source": [],
      "metadata": {
        "id": "rJ_ejxDNxPEF"
      },
      "execution_count": null,
      "outputs": []
    }
  ]
}