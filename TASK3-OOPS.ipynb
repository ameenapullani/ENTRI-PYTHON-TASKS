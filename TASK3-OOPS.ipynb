{
  "nbformat": 4,
  "nbformat_minor": 0,
  "metadata": {
    "colab": {
      "provenance": []
    },
    "kernelspec": {
      "name": "python3",
      "display_name": "Python 3"
    },
    "language_info": {
      "name": "python"
    }
  },
  "cells": [
    {
      "cell_type": "markdown",
      "source": [
        "1.  Write a Python program to create a class representing a Circle. Include methods to calculate its area and perimeter."
      ],
      "metadata": {
        "id": "xoAYaQvv4kme"
      }
    },
    {
      "cell_type": "code",
      "source": [
        "import math\n",
        "class Circle:\n",
        "  radius=0.0\n",
        "  pi=math.pi\n",
        "\n",
        "\n",
        "  def area(self):\n",
        "    print(\"area of circle:\",self.pi*self.radius**2)\n",
        "  def perimeter(self):\n",
        "    print(\"perimeter of circle:\",2*self.pi*self.radius)\n",
        "circle1=Circle()\n",
        "circle1.radius=12\n",
        "circle1.area()\n",
        "circle1.perimeter()\n"
      ],
      "metadata": {
        "colab": {
          "base_uri": "https://localhost:8080/"
        },
        "id": "omu0YuPF5f-P",
        "outputId": "b17e2aa9-dee0-4e02-9658-f7615dd9a92b"
      },
      "execution_count": 5,
      "outputs": [
        {
          "output_type": "stream",
          "name": "stdout",
          "text": [
            "area of circle: 452.3893421169302\n",
            "perimeter of circle: 75.39822368615503\n"
          ]
        }
      ]
    },
    {
      "cell_type": "markdown",
      "source": [
        "2.Write a Python program to create a calculator class. Include methods for basic arithmetic operations.\n"
      ],
      "metadata": {
        "id": "sMEwxBc09VtN"
      }
    },
    {
      "cell_type": "code",
      "source": [
        "class Calculator:\n",
        "  def add(self,num1,num2):\n",
        "    return num1+num2\n",
        "  def sub(self,num1,num2):\n",
        "    return num1-num2\n",
        "  def multiply(self,num1,num2):\n",
        "    return num1*num2\n",
        "  def division(self,num1,num2):\n",
        "    if num2==0:\n",
        "      print(\"cannot be divisible by zero\")\n",
        "    return num1/num2\n",
        "\n",
        "calculator1=Calculator()\n",
        "addition=calculator1.add(22,9)\n",
        "subtraction=calculator1.sub(12,10)\n",
        "multiplication=calculator1.multiply(6,4)\n",
        "division=calculator1.division(12,2)\n",
        "\n",
        "print(\"addition=\",addition)\n",
        "print(\"subtraction=\",subtraction)\n",
        "print(\"multiplication=\",multiplication)\n",
        "print(\"division=\",division)\n",
        "\n",
        "\n"
      ],
      "metadata": {
        "colab": {
          "base_uri": "https://localhost:8080/"
        },
        "id": "SUXu1nX48lwy",
        "outputId": "10f7496c-7e86-4e70-86f9-7606b15cd819"
      },
      "execution_count": 3,
      "outputs": [
        {
          "output_type": "stream",
          "name": "stdout",
          "text": [
            "addition= 31\n",
            "subtraction= 2\n",
            "multiplication= 24\n",
            "division= 6.0\n"
          ]
        }
      ]
    },
    {
      "cell_type": "markdown",
      "source": [
        "3. Write a Python program to create a class that represents a shape. Include methods to calculate its area and perimeter. Implement subclasses for different shapes like circle, triangle, and square.\n",
        "\n"
      ],
      "metadata": {
        "id": "jwXoOC2_f1mb"
      }
    },
    {
      "cell_type": "code",
      "source": [
        "import math\n",
        "class Shape:\n",
        "  def area(self):\n",
        "    pass\n",
        "  def perimeter(self):\n",
        "    pass\n",
        "class Circle(Shape):\n",
        "  def __init__(self,radius):\n",
        "    self.radius=radius\n",
        "  def area(self):\n",
        "    print(\"area of circle:\",math.pi*self.radius**2)\n",
        "  def perimeter(self):\n",
        "    print(\"perimeter of circle:\",2*math.pi*self.radius)\n",
        "circle1=Circle(radius=10)\n",
        "circle1.area()\n",
        "circle1.perimeter()\n",
        "\n",
        "class Triangle(Shape):\n",
        "  def __init__(self,side1,side2,side3):\n",
        "    self.side1=side1\n",
        "    self.side2=side2\n",
        "    self.side3=side3\n",
        "  def area(self):\n",
        "    s = (self.side1 + self.side2 + self.side3) / 2\n",
        "    print(\"area of triangle:\",math.sqrt(s * (s - self.side1) * (s - self.side2) * (s - self.side3)))\n",
        "  def perimeter(self):\n",
        "    print(\"perimeter of triangle:\",self.side1 + self.side2 + self.side3)\n",
        "triangle1=Triangle(side1=3,side2=5,side3=4)\n",
        "triangle1.area()\n",
        "triangle1.perimeter()\n",
        "\n",
        "class Square(Shape):\n",
        "  def __init__(self,side):\n",
        "    self.side=side\n",
        "  def area(self):\n",
        "    print(\"area of square:\",self.side**2)\n",
        "  def perimeter(self):\n",
        "    print(\"perimeter of square:\",4*self.side)\n",
        "square1=Square(side=5)\n",
        "square1.area()\n",
        "square1.perimeter()\n",
        "\n",
        ""
      ],
      "metadata": {
        "colab": {
          "base_uri": "https://localhost:8080/"
        },
        "id": "Cq1BFrEm-Qex",
        "outputId": "3940e670-8518-4bfc-8076-81cab2e9f0cb"
      },
      "execution_count": 20,
      "outputs": [
        {
          "output_type": "stream",
          "name": "stdout",
          "text": [
            "area of circle: 314.1592653589793\n",
            "perimeter of circle: 62.83185307179586\n",
            "area of triangle: 6.0\n",
            "perimeter of triangle: 12\n",
            "area of square: 25\n",
            "perimeter of square: 20\n"
          ]
        }
      ]
    },
    {
      "cell_type": "code",
      "source": [],
      "metadata": {
        "id": "ZWonvuXXh6qQ"
      },
      "execution_count": null,
      "outputs": []
    }
  ]
}